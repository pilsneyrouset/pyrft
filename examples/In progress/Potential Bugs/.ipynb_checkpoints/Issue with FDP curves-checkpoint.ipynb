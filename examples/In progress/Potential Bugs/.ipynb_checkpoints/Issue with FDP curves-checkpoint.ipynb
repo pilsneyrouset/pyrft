{
 "cells": [
  {
   "cell_type": "markdown",
   "metadata": {},
   "source": [
    "### Issue with the varying FDP curves"
   ]
  },
  {
   "cell_type": "code",
   "execution_count": 2,
   "metadata": {},
   "outputs": [],
   "source": [
    "import numpy as np\n",
    "import numpy.matlib as npm\n",
    "import sys\n",
    "import matplotlib.pyplot as plt \n",
    "\n",
    "import sanssouci as sa\n",
    "\n",
    "import random"
   ]
  },
  {
   "cell_type": "code",
   "execution_count": 49,
   "metadata": {},
   "outputs": [],
   "source": [
    "random.seed(a=2022)\n",
    "\n",
    "m = 2000         # number of variables     (eg : number of voxels in an image)\n",
    "n = 80            # number of observations  (eg : number of images)\n",
    "pi0 = 0.99        # proportion of noise (true null hypotheses)\n",
    "p0 = int(np.round(pi0*m)) # number of true null hypotheses (non active voxels)\n",
    "rho = 0.3        # equi-correlation\n",
    "s = 10             # signal to noise ratio (because sigma is 1 CHECK!)\n",
    "\n",
    "# generate noise\n",
    "Z=np.random.randn(n,m)\n",
    "w=np.random.randn(n)\n",
    "W=Z.copy()\n",
    "for i in range(m):\n",
    "  W[:,i]=w[:] # W has the same w for each subject to ensure the dependence\n",
    "Y=np.sqrt(1-rho)*Z + np.sqrt(rho)*W\n",
    "\n",
    "# cov(Y_n(v), Y_m(v)) = E( sqrt(1-rho)z_n + sqrt(rho)*w,sqrt(1-rho)z_m + sqrt(rho)*w) = (1-rho)delta_{nm} + rho\n",
    "# (as var(w) = 1 = var(z_n) = var(z_m)) (so the text above is wrong!)\n",
    "\n",
    "# add signal (for false null hypotheses)\n",
    "categ=np.random.binomial(1, 0.5, size=n) # Equal probability of each - but ususally not balanced in fact!\n",
    "data = Y.copy()\n",
    "w1=np.where(categ==1)"
   ]
  },
  {
   "cell_type": "markdown",
   "metadata": {},
   "source": [
    "Can toggle this to see the effect"
   ]
  },
  {
   "cell_type": "code",
   "execution_count": 50,
   "metadata": {},
   "outputs": [],
   "source": [
    "# Add signal to the data when the category is 1! :) \n",
    "data[w1, (p0+1):m] = Y[w1, (p0+1):m] - s"
   ]
  },
  {
   "cell_type": "code",
   "execution_count": 51,
   "metadata": {},
   "outputs": [
    {
     "data": {
      "text/plain": [
       "(array([175., 180., 181., 208., 198., 189., 207., 243., 216., 203.]),\n",
       " array([0.        , 0.09999041, 0.19998081, 0.29997122, 0.39996163,\n",
       "        0.49995204, 0.59994244, 0.69993285, 0.79992326, 0.89991367,\n",
       "        0.99990407]),\n",
       " <a list of 10 Patch objects>)"
      ]
     },
     "execution_count": 51,
     "metadata": {},
     "output_type": "execute_result"
    },
    {
     "data": {
      "image/png": "[encoded data removed]",
      "text/plain": [
       "<Figure size 432x288 with 1 Axes>"
      ]
     },
     "metadata": {
      "needs_background": "light"
     },
     "output_type": "display_data"
    }
   ],
   "source": [
    "rwt = sa.row_welch_tests(data, categ)\n",
    "pvals_perm = rwt['p_value']\n",
    "plt.hist(pvals_perm)"
   ]
  },
  {
   "cell_type": "code",
   "execution_count": 42,
   "metadata": {},
   "outputs": [
    {
     "name": "stdout",
     "output_type": "stream",
     "text": [
      "[0.  0.1 0.2 0.3 0.4 0.5 0.6 0.7 0.8 0.9]\n",
      "The input p-values were not sorted -> this is done now\n",
      "The input p-values were not sorted -> this is done now\n",
      "The input p-values were not sorted -> this is done now\n",
      "The input p-values were not sorted -> this is done now\n",
      "The input p-values were not sorted -> this is done now\n",
      "The input p-values were not sorted -> this is done now\n",
      "The input p-values were not sorted -> this is done now\n",
      "The input p-values were not sorted -> this is done now\n",
      "The input p-values were not sorted -> this is done now\n",
      "The input p-values were not sorted -> this is done now\n"
     ]
    },
    {
     "data": {
      "image/png": "[encoded data removed]",
      "text/plain": [
       "<Figure size 432x288 with 1 Axes>"
      ]
     },
     "metadata": {
      "needs_background": "light"
     },
     "output_type": "display_data"
    }
   ],
   "source": [
    "lambda_set = np.arange(10)/10\n",
    "print(lambda_set)\n",
    "for I in np.arange(len(lambda_set)):\n",
    "    thresh = sa.t_linear(lambda_set[I], np.arange(1,m+1), m)\n",
    "    max_FDP_perm = sa.curve_max_fp(pvals_perm, thresh)\n",
    "    plt.plot(max_FDP_perm)\n"
   ]
  }
 ],
 "metadata": {
  "kernelspec": {
   "display_name": "Python 3",
   "language": "python",
   "name": "python3"
  },
  "language_info": {
   "codemirror_mode": {
    "name": "ipython",
    "version": 3
   },
   "file_extension": ".py",
   "mimetype": "text/x-python",
   "name": "python",
   "nbconvert_exporter": "python",
   "pygments_lexer": "ipython3",
   "version": "3.8.3"
  }
 },
 "nbformat": 4,
 "nbformat_minor": 4
}
