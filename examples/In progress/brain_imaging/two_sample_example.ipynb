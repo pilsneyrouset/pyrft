{
 "cells": [
  {
   "cell_type": "markdown",
   "metadata": {},
   "source": [
    "## Application to the FDP nilearn example"
   ]
  },
  {
   "cell_type": "markdown",
   "metadata": {},
   "source": [
    "Don't yet know how to extract the data!"
   ]
  },
  {
   "cell_type": "code",
   "execution_count": null,
   "metadata": {},
   "outputs": [],
   "source": [
    "import numpy as np\n",
    "import numpy.matlib as npm\n",
    "import matplotlib.pyplot as plt \n",
    "\n",
    "import sanssouci as sa\n",
    "import pyrft as pr\n",
    "\n",
    "from nilearn.datasets import fetch_localizer_contrasts\n",
    "from nilearn import plotting"
   ]
  },
  {
   "cell_type": "code",
   "execution_count": 2,
   "metadata": {},
   "outputs": [
    {
     "name": "stdout",
     "output_type": "stream",
     "text": [
      "Downloading data from https://osf.io/download/5d27cb281c5b4a001aa07e29/ ...\n"
     ]
    },
    {
     "name": "stderr",
     "output_type": "stream",
     "text": [
      " ...done. (2 seconds, 0 min)\n"
     ]
    },
    {
     "name": "stdout",
     "output_type": "stream",
     "text": [
      "Downloading data from https://osf.io/download/5d27ca3d1c5b4a001b9eeddb/ ...\n"
     ]
    },
    {
     "name": "stderr",
     "output_type": "stream",
     "text": [
      " ...done. (3 seconds, 0 min)\n"
     ]
    },
    {
     "name": "stdout",
     "output_type": "stream",
     "text": [
      "Downloading data from https://osf.io/download/5d27ddc91c5b4a001b9ef9d0/ ...\n"
     ]
    },
    {
     "name": "stderr",
     "output_type": "stream",
     "text": [
      " ...done. (3 seconds, 0 min)\n"
     ]
    },
    {
     "name": "stdout",
     "output_type": "stream",
     "text": [
      "Downloading data from https://osf.io/download/5d27d29145253a001c3e284f/ ...\n"
     ]
    },
    {
     "name": "stderr",
     "output_type": "stream",
     "text": [
      " ...done. (2 seconds, 0 min)\n"
     ]
    },
    {
     "name": "stdout",
     "output_type": "stream",
     "text": [
      "Downloading data from https://osf.io/download/5d27e787114a420016059c22/ ...\n"
     ]
    },
    {
     "name": "stderr",
     "output_type": "stream",
     "text": [
      " ...done. (2 seconds, 0 min)\n"
     ]
    },
    {
     "name": "stdout",
     "output_type": "stream",
     "text": [
      "Downloading data from https://osf.io/download/5d27eba2114a420016059fbf/ ...\n"
     ]
    },
    {
     "name": "stderr",
     "output_type": "stream",
     "text": [
      " ...done. (2 seconds, 0 min)\n"
     ]
    },
    {
     "name": "stdout",
     "output_type": "stream",
     "text": [
      "Downloading data from https://osf.io/download/5d27efab1c5b4a001aa0a0c2/ ...\n"
     ]
    },
    {
     "name": "stderr",
     "output_type": "stream",
     "text": [
      " ...done. (2 seconds, 0 min)\n"
     ]
    },
    {
     "name": "stdout",
     "output_type": "stream",
     "text": [
      "Downloading data from https://osf.io/download/5d27f296114a42001704a5d9/ ...\n"
     ]
    },
    {
     "name": "stderr",
     "output_type": "stream",
     "text": [
      " ...done. (2 seconds, 0 min)\n"
     ]
    },
    {
     "name": "stdout",
     "output_type": "stream",
     "text": [
      "Downloading data from https://osf.io/download/5d28095545253a001c3e59a2/ ...\n"
     ]
    },
    {
     "name": "stderr",
     "output_type": "stream",
     "text": [
      " ...done. (2 seconds, 0 min)\n"
     ]
    },
    {
     "name": "stdout",
     "output_type": "stream",
     "text": [
      "Downloading data from https://osf.io/download/5d280608a26b3400180868d1/ ...\n"
     ]
    },
    {
     "name": "stderr",
     "output_type": "stream",
     "text": [
      " ...done. (3 seconds, 0 min)\n"
     ]
    },
    {
     "name": "stdout",
     "output_type": "stream",
     "text": [
      "Downloading data from https://osf.io/download/5d28144c114a42001804739e/ ...\n"
     ]
    },
    {
     "name": "stderr",
     "output_type": "stream",
     "text": [
      " ...done. (3 seconds, 0 min)\n"
     ]
    },
    {
     "name": "stdout",
     "output_type": "stream",
     "text": [
      "Downloading data from https://osf.io/download/5d2811d0114a42001704b988/ ...\n"
     ]
    },
    {
     "name": "stderr",
     "output_type": "stream",
     "text": [
      " ...done. (2 seconds, 0 min)\n"
     ]
    },
    {
     "name": "stdout",
     "output_type": "stream",
     "text": [
      "Downloading data from https://osf.io/download/5d281e3d114a42001605cb02/ ...\n"
     ]
    },
    {
     "name": "stderr",
     "output_type": "stream",
     "text": [
      " ...done. (2 seconds, 0 min)\n"
     ]
    },
    {
     "name": "stdout",
     "output_type": "stream",
     "text": [
      "Downloading data from https://osf.io/download/5d281f851c5b4a001b9f2315/ ...\n"
     ]
    },
    {
     "name": "stderr",
     "output_type": "stream",
     "text": [
      " ...done. (2 seconds, 0 min)\n"
     ]
    },
    {
     "name": "stdout",
     "output_type": "stream",
     "text": [
      "Downloading data from https://osf.io/download/5d28375345253a001c3e90a2/ ...\n"
     ]
    },
    {
     "name": "stderr",
     "output_type": "stream",
     "text": [
      " ...done. (2 seconds, 0 min)\n"
     ]
    },
    {
     "name": "stdout",
     "output_type": "stream",
     "text": [
      "Downloading data from https://osf.io/download/5d282d9045253a001c3e80a1/ ...\n"
     ]
    },
    {
     "name": "stderr",
     "output_type": "stream",
     "text": [
      " ...done. (2 seconds, 0 min)\n"
     ]
    },
    {
     "name": "stdout",
     "output_type": "stream",
     "text": [
      "Downloading data from https://osf.io/download/5d283f021c5b4a001aa100cb/ ...\n"
     ]
    },
    {
     "name": "stderr",
     "output_type": "stream",
     "text": [
      " ...done. (3 seconds, 0 min)\n"
     ]
    },
    {
     "name": "stdout",
     "output_type": "stream",
     "text": [
      "Downloading data from https://osf.io/download/5d283ee0a26b34001609f58e/ ...\n"
     ]
    },
    {
     "name": "stderr",
     "output_type": "stream",
     "text": [
      " ...done. (2 seconds, 0 min)\n"
     ]
    },
    {
     "name": "stdout",
     "output_type": "stream",
     "text": [
      "Downloading data from https://osf.io/download/5d2852caa26b340018089ae5/ ...\n"
     ]
    },
    {
     "name": "stderr",
     "output_type": "stream",
     "text": [
      " ...done. (3 seconds, 0 min)\n"
     ]
    },
    {
     "name": "stdout",
     "output_type": "stream",
     "text": [
      "Downloading data from https://osf.io/download/5d285263114a4200160602c6/ ...\n"
     ]
    },
    {
     "name": "stderr",
     "output_type": "stream",
     "text": [
      " ...done. (2 seconds, 0 min)\n"
     ]
    },
    {
     "name": "stdout",
     "output_type": "stream",
     "text": [
      "Downloading data from https://osf.io/download/5d28660b1c5b4a001aa122c7/ ...\n"
     ]
    },
    {
     "name": "stderr",
     "output_type": "stream",
     "text": [
      " ...done. (2 seconds, 0 min)\n"
     ]
    },
    {
     "name": "stdout",
     "output_type": "stream",
     "text": [
      "Downloading data from https://osf.io/download/5d285d61114a42001904a343/ ...\n"
     ]
    },
    {
     "name": "stderr",
     "output_type": "stream",
     "text": [
      " ...done. (2 seconds, 0 min)\n"
     ]
    },
    {
     "name": "stdout",
     "output_type": "stream",
     "text": [
      "Downloading data from https://osf.io/download/5d2868f9114a42001704f6a5/ ...\n"
     ]
    },
    {
     "name": "stderr",
     "output_type": "stream",
     "text": [
      " ...done. (2 seconds, 0 min)\n"
     ]
    },
    {
     "name": "stdout",
     "output_type": "stream",
     "text": [
      "Downloading data from https://osf.io/download/5d28709e114a420016061aa1/ ...\n"
     ]
    },
    {
     "name": "stderr",
     "output_type": "stream",
     "text": [
      " ...done. (2 seconds, 0 min)\n"
     ]
    },
    {
     "name": "stdout",
     "output_type": "stream",
     "text": [
      "Downloading data from https://osf.io/download/5d28847d114a42001904b87b/ ...\n"
     ]
    },
    {
     "name": "stderr",
     "output_type": "stream",
     "text": [
      " ...done. (2 seconds, 0 min)\n"
     ]
    },
    {
     "name": "stdout",
     "output_type": "stream",
     "text": [
      "Downloading data from https://osf.io/download/5d287b3a45253a00193d145e/ ...\n"
     ]
    },
    {
     "name": "stderr",
     "output_type": "stream",
     "text": [
      " ...done. (2 seconds, 0 min)\n"
     ]
    },
    {
     "name": "stdout",
     "output_type": "stream",
     "text": [
      "Downloading data from https://osf.io/download/5d289736114a4200170518d7/ ...\n"
     ]
    },
    {
     "name": "stderr",
     "output_type": "stream",
     "text": [
      " ...done. (2 seconds, 0 min)\n"
     ]
    },
    {
     "name": "stdout",
     "output_type": "stream",
     "text": [
      "Downloading data from https://osf.io/download/5d28966345253a00193d2e27/ ...\n"
     ]
    },
    {
     "name": "stderr",
     "output_type": "stream",
     "text": [
      " ...done. (3 seconds, 0 min)\n"
     ]
    },
    {
     "name": "stdout",
     "output_type": "stream",
     "text": [
      "Downloading data from https://osf.io/download/5d28b135a26b3400160a648e/ ...\n"
     ]
    },
    {
     "name": "stderr",
     "output_type": "stream",
     "text": [
      " ...done. (2 seconds, 0 min)\n"
     ]
    },
    {
     "name": "stdout",
     "output_type": "stream",
     "text": [
      "Downloading data from https://osf.io/download/5d28a431a26b340019090fa2/ ...\n"
     ]
    },
    {
     "name": "stderr",
     "output_type": "stream",
     "text": [
      " ...done. (2 seconds, 0 min)\n"
     ]
    },
    {
     "name": "stdout",
     "output_type": "stream",
     "text": [
      "Downloading data from https://osf.io/download/5d28c0a81c5b4a001b9fb89a/ ...\n"
     ]
    },
    {
     "name": "stderr",
     "output_type": "stream",
     "text": [
      " ...done. (2 seconds, 0 min)\n"
     ]
    },
    {
     "name": "stdout",
     "output_type": "stream",
     "text": [
      "Downloading data from https://osf.io/download/5d28b761a26b3400160a6ba8/ ...\n"
     ]
    },
    {
     "name": "stderr",
     "output_type": "stream",
     "text": [
      " ...done. (3 seconds, 0 min)\n",
      "c:\\users\\12sda\\appdata\\local\\programs\\python\\python38-32\\lib\\site-packages\\numpy\\lib\\npyio.py:2405: VisibleDeprecationWarning: Reading unicode strings without specifying the encoding argument is deprecated. Set the encoding, use None for the system default.\n",
      "  output = genfromtxt(fname, **kwargs)\n"
     ]
    }
   ],
   "source": [
    "n_subjects = 16\n",
    "data = fetch_localizer_contrasts([\"left vs right button press\"], n_subjects,\n",
    "                                 get_tmaps=True)"
   ]
  },
  {
   "cell_type": "code",
   "execution_count": 3,
   "metadata": {},
   "outputs": [],
   "source": [
    "import pandas as pd\n",
    "second_level_input = data['cmaps']\n",
    "design_matrix = pd.DataFrame([1] * len(second_level_input),\n",
    "                             columns=['intercept'])"
   ]
  },
  {
   "cell_type": "code",
   "execution_count": 7,
   "metadata": {},
   "outputs": [
    {
     "data": {
      "text/plain": [
       "['C:\\\\Users\\\\12SDa/nilearn_data\\\\brainomics_localizer\\\\brainomics_data\\\\S01\\\\cmaps_LeftAuditory&VisualClickVsRightAuditory&VisualClick.nii.gz',\n",
       " 'C:\\\\Users\\\\12SDa/nilearn_data\\\\brainomics_localizer\\\\brainomics_data\\\\S02\\\\cmaps_LeftAuditory&VisualClickVsRightAuditory&VisualClick.nii.gz',\n",
       " 'C:\\\\Users\\\\12SDa/nilearn_data\\\\brainomics_localizer\\\\brainomics_data\\\\S03\\\\cmaps_LeftAuditory&VisualClickVsRightAuditory&VisualClick.nii.gz',\n",
       " 'C:\\\\Users\\\\12SDa/nilearn_data\\\\brainomics_localizer\\\\brainomics_data\\\\S04\\\\cmaps_LeftAuditory&VisualClickVsRightAuditory&VisualClick.nii.gz',\n",
       " 'C:\\\\Users\\\\12SDa/nilearn_data\\\\brainomics_localizer\\\\brainomics_data\\\\S05\\\\cmaps_LeftAuditory&VisualClickVsRightAuditory&VisualClick.nii.gz',\n",
       " 'C:\\\\Users\\\\12SDa/nilearn_data\\\\brainomics_localizer\\\\brainomics_data\\\\S06\\\\cmaps_LeftAuditory&VisualClickVsRightAuditory&VisualClick.nii.gz',\n",
       " 'C:\\\\Users\\\\12SDa/nilearn_data\\\\brainomics_localizer\\\\brainomics_data\\\\S07\\\\cmaps_LeftAuditory&VisualClickVsRightAuditory&VisualClick.nii.gz',\n",
       " 'C:\\\\Users\\\\12SDa/nilearn_data\\\\brainomics_localizer\\\\brainomics_data\\\\S08\\\\cmaps_LeftAuditory&VisualClickVsRightAuditory&VisualClick.nii.gz',\n",
       " 'C:\\\\Users\\\\12SDa/nilearn_data\\\\brainomics_localizer\\\\brainomics_data\\\\S09\\\\cmaps_LeftAuditory&VisualClickVsRightAuditory&VisualClick.nii.gz',\n",
       " 'C:\\\\Users\\\\12SDa/nilearn_data\\\\brainomics_localizer\\\\brainomics_data\\\\S10\\\\cmaps_LeftAuditory&VisualClickVsRightAuditory&VisualClick.nii.gz',\n",
       " 'C:\\\\Users\\\\12SDa/nilearn_data\\\\brainomics_localizer\\\\brainomics_data\\\\S11\\\\cmaps_LeftAuditory&VisualClickVsRightAuditory&VisualClick.nii.gz',\n",
       " 'C:\\\\Users\\\\12SDa/nilearn_data\\\\brainomics_localizer\\\\brainomics_data\\\\S12\\\\cmaps_LeftAuditory&VisualClickVsRightAuditory&VisualClick.nii.gz',\n",
       " 'C:\\\\Users\\\\12SDa/nilearn_data\\\\brainomics_localizer\\\\brainomics_data\\\\S13\\\\cmaps_LeftAuditory&VisualClickVsRightAuditory&VisualClick.nii.gz',\n",
       " 'C:\\\\Users\\\\12SDa/nilearn_data\\\\brainomics_localizer\\\\brainomics_data\\\\S14\\\\cmaps_LeftAuditory&VisualClickVsRightAuditory&VisualClick.nii.gz',\n",
       " 'C:\\\\Users\\\\12SDa/nilearn_data\\\\brainomics_localizer\\\\brainomics_data\\\\S15\\\\cmaps_LeftAuditory&VisualClickVsRightAuditory&VisualClick.nii.gz',\n",
       " 'C:\\\\Users\\\\12SDa/nilearn_data\\\\brainomics_localizer\\\\brainomics_data\\\\S16\\\\cmaps_LeftAuditory&VisualClickVsRightAuditory&VisualClick.nii.gz']"
      ]
     },
     "execution_count": 7,
     "metadata": {},
     "output_type": "execute_result"
    }
   ],
   "source": [
    "second_level_input"
   ]
  }
 ],
 "metadata": {
  "kernelspec": {
   "display_name": "Python 3",
   "language": "python",
   "name": "python3"
  },
  "language_info": {
   "codemirror_mode": {
    "name": "ipython",
    "version": 3
   },
   "file_extension": ".py",
   "mimetype": "text/x-python",
   "name": "python",
   "nbconvert_exporter": "python",
   "pygments_lexer": "ipython3",
   "version": "3.8.3"
  }
 },
 "nbformat": 4,
 "nbformat_minor": 4
}
